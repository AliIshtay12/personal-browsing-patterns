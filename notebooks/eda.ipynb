{
 "cells": [
  {
   "cell_type": "markdown",
   "metadata": {},
   "source": [
    "# Exploratory Data Analysis (EDA)"
   ]
  },
  {
   "cell_type": "markdown",
   "metadata": {},
   "source": [
    "## 1. Preliminary Steps"
   ]
  },
  {
   "cell_type": "markdown",
   "metadata": {},
   "source": [
    "### Load Data"
   ]
  },
  {
   "cell_type": "code",
   "execution_count": null,
   "metadata": {},
   "outputs": [],
   "source": [
    "# Import necessary libraries\n",
    "import pandas as pd\n",
    "\n",
    "# File path configuration\n",
    "file_path = '../data/raw/rawdata.tsv' \n",
    "\n",
    "# Load the dataset into a Pandas DataFrame, skipping the first line\n",
    "df = pd.read_csv(file_path, sep='\\t', skiprows=1)  # Skipping the first row due to format issues\n",
    "print(\"\\nDataset loaded successfully!\")\n",
    "\n",
    "# Step 1: Rename Columns, according to export format given with the extension's feature. \n",
    "column_names = [\n",
    "    \"URL\",              # The visited URL\n",
    "    \"Host\",             # The hostname of the URL\n",
    "    \"Domain\",           # The domain of the URL\n",
    "    \"Visit Time (ms)\",  # The visit time in milliseconds\n",
    "    \"Visit Time\",       # The visit time as a string in local time\n",
    "    \"Day of Week\",      # The day of the week for the visit time\n",
    "    \"Transition Type\",  # How the browser navigated to the URL\n",
    "    \"Page Title\"        # The title of the visited URL\n",
    "]\n",
    "\n",
    "# Assign new column names to the DataFrame\n",
    "df.columns = column_names\n",
    "print(\"\\nColumns named successfully!\")\n",
    "print(f\"Updated columns: {df.columns.tolist()}\")\n"
   ]
  },
  {
   "cell_type": "markdown",
   "metadata": {},
   "source": [
    "### Inspect Structure"
   ]
  },
  {
   "cell_type": "code",
   "execution_count": null,
   "metadata": {},
   "outputs": [],
   "source": [
    "# Display the first few rows of the dataset\n",
    "print(\"\\nFirst few rows of the dataset:\")\n",
    "print(df.head())\n",
    "\n",
    "# Check data types and column information\n",
    "print(\"\\nDataset Info:\")\n",
    "print(df.info())\n",
    "\n",
    "# Investigate \"Day of Week\" as a categorical variable\n",
    "print(\"\\nDay of Week Distribution (Categorical Variable):\")\n",
    "days_of_week = {\n",
    "    0: \"Sunday\",\n",
    "    1: \"Monday\",\n",
    "    2: \"Tuesday\",\n",
    "    3: \"Wednesday\",\n",
    "    4: \"Thursday\",\n",
    "    5: \"Friday\",\n",
    "    6: \"Saturday\"\n",
    "}\n",
    "# Analyze the distribution using the mapping without modifying the dataset\n",
    "day_of_week_distribution = df['Day of Week'].map(days_of_week).value_counts()\n",
    "print(day_of_week_distribution)\n",
    "\n",
    "# Summary statistics for other categorical columns\n",
    "print(\"\\nSummary statistics for other categorical columns:\")\n",
    "categorical_columns = df.select_dtypes(include=['object']).columns\n",
    "for col in categorical_columns:\n",
    "    print(f\"\\nColumn: {col}\")\n",
    "    print(df[col].value_counts())\n"
   ]
  },
  {
   "cell_type": "markdown",
   "metadata": {},
   "source": [
    "#### Dataset Overview\n",
    "\n",
    "##### First Few Rows\n",
    "Columns: URL, Host, Domain, Visit Time (ms), Visit Time, Day of Week, Transition Type, Page Title\n",
    "\n",
    "##### Key Observations\n",
    "- Columns like Host, Domain, and Page Title have missing values (NaN). Which is indicated or warned by the extension's export feature.\n",
    "- URL provides the visited links, while Transition Type shows navigation type (link, typed).\n",
    "\n",
    "##### Dataset Info\n",
    "- Total Rows: 65,839(Index start from 0).\n",
    "- Total Columns: 8\n",
    "\n",
    "##### Column Types\n",
    "- float(Date/Time Data Type): 1 column (e.g., Visit Time (ms)) \n",
    "- int(Catagorical Variable): 1 column (The day of the week for the visit time. Values are 0-6. Sunday=0, Monday=1, etc.)\n",
    "- object: 6 columns\n",
    "    - URL: Identifier variable (unique for each row, represents the visited URL)\n",
    "    - Host: Categorical variable (represents the hostname of the URL)\n",
    "    - Domain: Categorical variable (represents the domain of the URL, grouped based on the public suffix)\n",
    "    - Visit Time (string): Date/Time variable (provides the exact timestamp of the visit)\n",
    "    - Transition Type: Categorical variable (indicates how the browser navigated to the URL, e.g., link, typed, reload)\n",
    "    - Page Title: Categorical variable (represents the title of the visited page)\n",
    "\n",
    "##### Non-Null Counts\n",
    "- Fully populated columns: URL, Visit Time (ms), Visit Time (String), Day of Week, Transition Type\n",
    "- Columns with missing data: Host, Domain, Page Title (As indicated by the export feature).\n",
    "\n",
    "##### Summary of Objects(Categorical/Identifier/Date) Variables\n",
    "\n",
    "###### Day of Week\n",
    "- **Distribution of days:**\n",
    "  - **Tuesday:** 11,033\n",
    "  - **Wednesday:** 10,990\n",
    "  - **Monday:** 9,766\n",
    "  - **Thursday:** 9,292\n",
    "  - **Sunday:** 8,901\n",
    "  - **Saturday:** 8,246\n",
    "  - **Friday:** 7,611\n",
    "\n",
    "###### URL\n",
    "- **Total unique URLs:** 16,812\n",
    "- **Most common URL:** https://mail.google.com/mail/u/2/#inbox (1,073 occurrences)\n",
    "\n",
    "###### Host\n",
    "- **Total unique hosts:** 1,349\n",
    "- **Most common host:** sucourse.sabanciuniv.edu (18,029 occurrences)\n",
    "\n",
    "###### Domain\n",
    "- **Total unique domains:** 1,047\n",
    "- **Most common domain:** sabanciuniv.edu (25,630 occurrences)\n",
    "\n",
    "##### Visit Time\n",
    "- **Total unique timestamps:** 56,280\n",
    "- **Most frequent timestamp:** 2024-11-04 03:35:00 (43 occurrences)\n",
    "\n",
    "###### Transition Type\n",
    "- **Types of transitions:**\n",
    "  - **link:** 49,865\n",
    "  - **generated:** 4,431\n",
    "  - **reload:** 3,540\n",
    "  - **form_submit:** 3,397\n",
    "  - **auto_bookmark:** 2,995\n",
    "  - **typed:** 1,320\n",
    "  - **auto_toplevel:** 286\n",
    "  - **manual_subframe:** 5\n",
    "\n",
    "###### Page Title\n",
    "- **Total unique titles:** 10,041\n",
    "- **Most common title:** mySU (1,647 occurrences)"
   ]
  },
  {
   "cell_type": "markdown",
   "metadata": {},
   "source": [
    "### Missing Data"
   ]
  },
  {
   "cell_type": "code",
   "execution_count": null,
   "metadata": {},
   "outputs": [],
   "source": [
    "# Identify missing values in each column\n",
    "missing_values = df.isnull().sum()\n",
    "print(\"Missing Values Count:\")\n",
    "print(missing_values)"
   ]
  },
  {
   "cell_type": "markdown",
   "metadata": {},
   "source": [
    "#### Results\n",
    "\n",
    "Missing Values Count:\n",
    "- **URL:** 0\n",
    "- **Host:** 832\n",
    "- **Domain:** 1346\n",
    "- **Visit Time (ms):** 0\n",
    "- **Visit Time:** 0\n",
    "- **Day of Week:** 0\n",
    "- **Transition Type:** 0\n",
    "- **Page Title:** 396\n",
    "- **Day of Week Label:** 0"
   ]
  },
  {
   "cell_type": "code",
   "execution_count": 136,
   "metadata": {},
   "outputs": [],
   "source": [
    "# Replace missing values with \"Unknown\"\n",
    "df.fillna(\"Unknown\", inplace=True)"
   ]
  },
  {
   "cell_type": "markdown",
   "metadata": {},
   "source": [
    "#### Handeling Missing Data\n",
    "\n",
    "Any missing values were replaced with \"Unknown\" for further and better data analysis."
   ]
  },
  {
   "cell_type": "markdown",
   "metadata": {},
   "source": [
    "### Save Data Frame"
   ]
  },
  {
   "cell_type": "code",
   "execution_count": 137,
   "metadata": {},
   "outputs": [],
   "source": [
    "# Define the output file path\n",
    "output_file_path = '../data/processed/processedata.csv'\n",
    "\n",
    "# Save the DataFrame to a CSV file\n",
    "df.to_csv(output_file_path, index=False)  # index=False prevents adding the index column to the file"
   ]
  },
  {
   "cell_type": "markdown",
   "metadata": {},
   "source": [
    "## 2. Data Checks & Manipulation"
   ]
  },
  {
   "cell_type": "markdown",
   "metadata": {},
   "source": [
    "### Initial Manipulation"
   ]
  },
  {
   "cell_type": "code",
   "execution_count": 138,
   "metadata": {},
   "outputs": [],
   "source": [
    "file_path = '../data/processed/processedata.csv'\n",
    "df = pd.read_csv(file_path)\n",
    "\n",
    "# Remove the \"Transition Type\" and \"Visit Time (ms)\" columns\n",
    "df = df.drop(columns=['Visit Time (ms)']) \n",
    "df = df.drop(columns=['Transition Type'])\n",
    "\n",
    "# Save the updated DataFrame back to the processed data file\n",
    "df.to_csv(file_path, index=False)"
   ]
  },
  {
   "cell_type": "markdown",
   "metadata": {},
   "source": [
    "#### Operations Performed:\n",
    "\n",
    "#### Columns Removed: \n",
    "- The column `Transition Type` and `Visit Time (ms)` were removed because of there irrelevance to the analysis.\n",
    "\n",
    "#### Updated Data:\n",
    "- The changes were applied to the `processed_data` dataset."
   ]
  },
  {
   "cell_type": "markdown",
   "metadata": {},
   "source": [
    "### Check for Duplicates"
   ]
  },
  {
   "cell_type": "code",
   "execution_count": null,
   "metadata": {},
   "outputs": [],
   "source": [
    "# File path to the processed data\n",
    "file_path = '../data/processed/processedata.csv'\n",
    "\n",
    "# Load the processed dataset\n",
    "df = pd.read_csv(file_path)\n",
    "\n",
    "# Check for duplicates and count them\n",
    "duplicate_count = df.duplicated().sum()\n",
    "\n",
    "# Output the duplicate count\n",
    "print(f\"Number of duplicate rows: {duplicate_count}\")"
   ]
  },
  {
   "cell_type": "markdown",
   "metadata": {},
   "source": [
    "#### Results\n",
    "No duplicate rows were found in the dataset. This indicates that all rows are unique and no redundant data exists.\n"
   ]
  },
  {
   "cell_type": "markdown",
   "metadata": {},
   "source": [
    "## 3. Exploratory Analysis"
   ]
  },
  {
   "cell_type": "markdown",
   "metadata": {},
   "source": [
    "### Attribute Analysis\n",
    "\n",
    "Must interpret output for report."
   ]
  },
  {
   "cell_type": "code",
   "execution_count": null,
   "metadata": {},
   "outputs": [],
   "source": [
    "import matplotlib.pyplot as plt # Import the Matplotlib library. \n",
    "\n",
    "# Analyze categorical attributes\n",
    "categorical_columns = ['Host', 'Domain', 'Page Title', 'Day of Week']\n",
    "\n",
    "# Frequencies and bar charts for categorical attributes\n",
    "for col in categorical_columns:\n",
    "    print(f\"\\nFrequencies for {col}:\")\n",
    "    print(df[col].value_counts())\n",
    "    \n",
    "    # Create bar chart for visualization\n",
    "    plt.figure(figsize=(10, 6))\n",
    "    df[col].value_counts().head(10).plot(kind='bar', color='skyblue')\n",
    "    plt.title(f\"Top 10 Most Frequent Values in {col}\")\n",
    "    plt.xlabel(col)\n",
    "    plt.ylabel(\"Frequency\")\n",
    "    plt.xticks(rotation=45)\n",
    "    plt.tight_layout()\n",
    "    plt.show()\n",
    "\n",
    "# Specific Analysis for \"Day of Week\"\n",
    "if 'Day of Week' in df.columns:\n",
    "    days_of_week_labels = {\n",
    "        0: \"Sunday\",\n",
    "        1: \"Monday\",\n",
    "        2: \"Tuesday\",\n",
    "        3: \"Wednesday\",\n",
    "        4: \"Thursday\",\n",
    "        5: \"Friday\",\n",
    "        6: \"Saturday\"\n",
    "    }\n",
    "    # Map integers to day names for better analysis\n",
    "    df['Day of Week Label'] = df['Day of Week'].map(days_of_week_labels)\n",
    "\n",
    "    print(\"\\nDay of Week Frequency (Categorical):\")\n",
    "    print(df['Day of Week Label'].value_counts())\n",
    "\n",
    "    # Bar chart for Day of Week distribution\n",
    "    plt.figure(figsize=(8, 6))\n",
    "    df['Day of Week Label'].value_counts().plot(kind='bar', color='lightcoral')\n",
    "    plt.title(\"Distribution of Visits by Day of Week\")\n",
    "    plt.xlabel(\"Day of Week\")\n",
    "    plt.ylabel(\"Frequency\")\n",
    "    plt.xticks(rotation=45)\n",
    "    plt.tight_layout()\n",
    "    plt.show()"
   ]
  },
  {
   "cell_type": "markdown",
   "metadata": {},
   "source": [
    "### Temporal Analysis of Visit Time\n",
    "\n",
    "Must interpret output for report."
   ]
  },
  {
   "cell_type": "code",
   "execution_count": null,
   "metadata": {},
   "outputs": [],
   "source": [
    "# Convert 'Visit Time (string)' to datetime format\n",
    "df['Visit Time Parsed'] = pd.to_datetime(df['Visit Time'], format='%Y-%m-%d %H:%M:%S')\n",
    "\n",
    "# Extract temporal components\n",
    "df['Hour'] = df['Visit Time Parsed'].dt.hour  # Extract hour\n",
    "df['Day'] = df['Visit Time Parsed'].dt.day  # Extract day\n",
    "# Extract day of the week (0=Monday, 6=Sunday)\n",
    "df['Day of Week (Name)'] = df['Visit Time Parsed'].dt.day_name()\n",
    "\n",
    "# Analyze hourly browsing patterns\n",
    "hourly_counts = df['Hour'].value_counts().sort_index()\n",
    "\n",
    "# Plot hourly browsing patterns\n",
    "plt.figure(figsize=(10, 6))\n",
    "hourly_counts.plot(kind='bar', color='skyblue')\n",
    "plt.title('Browsing Patterns by Hour')\n",
    "plt.xlabel('Hour of the Day')\n",
    "plt.ylabel('Frequency')\n",
    "plt.xticks(rotation=0)\n",
    "plt.tight_layout()\n",
    "plt.show()\n",
    "\n",
    "# Analyze daily browsing patterns\n",
    "daily_counts = df['Day of Week (Name)'].value_counts()\n",
    "\n",
    "# Plot daily browsing patterns\n",
    "plt.figure(figsize=(10, 6))\n",
    "daily_counts.plot(kind='bar', color='lightcoral')\n",
    "plt.title('Browsing Patterns by Day of the Week')\n",
    "plt.xlabel('Day of the Week')\n",
    "plt.ylabel('Frequency')\n",
    "plt.xticks(rotation=45)\n",
    "plt.tight_layout()\n",
    "plt.show()\n",
    "\n",
    "# Combine Day of Week and Hour for more detailed analysis\n",
    "hour_day_counts = df.groupby(['Day of Week (Name)', 'Hour']).size().unstack()\n",
    "\n",
    "# Heatmap for Hour and Day of Week\n",
    "plt.figure(figsize=(12, 8))\n",
    "plt.imshow(hour_day_counts, aspect='auto', cmap='viridis', interpolation='nearest')\n",
    "plt.title('Heatmap of Browsing Patterns (Day vs Hour)')\n",
    "plt.xlabel('Hour of the Day')\n",
    "plt.ylabel('Day of the Week')\n",
    "plt.colorbar(label='Frequency')\n",
    "plt.xticks(range(len(hour_day_counts.columns)), hour_day_counts.columns, rotation=45)\n",
    "plt.yticks(range(len(hour_day_counts.index)), hour_day_counts.index)\n",
    "plt.tight_layout()\n",
    "plt.show()"
   ]
  },
  {
   "cell_type": "markdown",
   "metadata": {},
   "source": [
    "### Academic vs Non-Academic Activity Analysis\n",
    "\n",
    "Must interpret output for report."
   ]
  },
  {
   "cell_type": "code",
   "execution_count": null,
   "metadata": {},
   "outputs": [],
   "source": [
    "# Updated list of academic domains\n",
    "academic_domains = [\n",
    "    'sabanciuniv.edu', 'edu', 'researchgate.net', 'arxiv.org', 'sciencedirect.com', \n",
    "    'springer.com', 'jstor.org', 'ieee.org', 'acm.org', 'nature.com', 'wiley.com',\n",
    "    'udemy.com', 'w3schools.com', 'chegg.com', 'gradescope.com', 'geeksforgeeks.org',\n",
    "    'pearson.com', 'ets.org', 'openai.com', 'notion.so', 'notion.site', 'claude.ai',\n",
    "    'github.com', 'jsmastery.pro', 'ilovepdf.com', 'symplicity.com', 'zoom.us'\n",
    "]\n",
    "\n",
    "# Categorize websites into Academic and Non-Academic\n",
    "df['Activity Type'] = df['Domain'].apply(\n",
    "    lambda x: 'Academic' if any(domain in str(x) for domain in academic_domains) else 'Non-Academic'\n",
    ")\n",
    "\n",
    "# Analyze frequencies of Academic vs Non-Academic\n",
    "activity_counts = df['Activity Type'].value_counts()\n",
    "print(\"Activity Type Frequencies:\")\n",
    "print(activity_counts)\n",
    "\n",
    "# Plot activity type distribution\n",
    "import matplotlib.pyplot as plt\n",
    "plt.figure(figsize=(8, 6))\n",
    "activity_counts.plot(kind='bar', color=['blue', 'orange'])\n",
    "plt.title(\"Academic vs Non-Academic Activity\")\n",
    "plt.xlabel(\"Activity Type\")\n",
    "plt.ylabel(\"Frequency\")\n",
    "plt.show()"
   ]
  },
  {
   "cell_type": "markdown",
   "metadata": {},
   "source": [
    "### Peak Browsing Periods\n",
    "\n",
    "Must interpret output for report."
   ]
  },
  {
   "cell_type": "code",
   "execution_count": null,
   "metadata": {},
   "outputs": [],
   "source": [
    "# Extract hour of visit from 'Visit Time (string)'\n",
    "df['Visit Hour'] = pd.to_datetime(df['Visit Time']).dt.hour\n",
    "\n",
    "# Analyze hourly activity\n",
    "hourly_activity = df['Visit Hour'].value_counts().sort_index()\n",
    "print(\"Hourly Activity Distribution:\")\n",
    "print(hourly_activity)\n",
    "\n",
    "# Plot hourly activity\n",
    "plt.figure(figsize=(10, 6))\n",
    "hourly_activity.plot(kind='bar', color='green')\n",
    "plt.title(\"Hourly Browsing Activity\")\n",
    "plt.xlabel(\"Hour of the Day\")\n",
    "plt.ylabel(\"Frequency\")\n",
    "plt.xticks(rotation=0)\n",
    "plt.show()"
   ]
  },
  {
   "cell_type": "markdown",
   "metadata": {},
   "source": [
    "### Behavioral Patterns During Academic and Leisure Days\n",
    "\n",
    "Must interpret output for report."
   ]
  },
  {
   "cell_type": "code",
   "execution_count": null,
   "metadata": {},
   "outputs": [],
   "source": [
    "# Classify days as weekday or weekend\n",
    "df['Day Type'] = df['Day of Week'].apply(lambda x: 'Weekday' if x in [1, 2, 3, 4, 5] else 'Weekend')\n",
    "\n",
    "# Analyze frequencies of visits during weekdays and weekends\n",
    "day_type_counts = df['Day Type'].value_counts()\n",
    "print(\"Weekday vs Weekend Activity:\")\n",
    "print(day_type_counts)\n",
    "\n",
    "# Plot day type activity distribution\n",
    "plt.figure(figsize=(8, 6))\n",
    "day_type_counts.plot(kind='bar', color='cyan')\n",
    "plt.title(\"Weekday vs Weekend Browsing Activity\")\n",
    "plt.xlabel(\"Day Type\")\n",
    "plt.ylabel(\"Frequency\")\n",
    "plt.show()"
   ]
  }
 ],
 "metadata": {
  "kernelspec": {
   "display_name": ".venv",
   "language": "python",
   "name": "python3"
  },
  "language_info": {
   "codemirror_mode": {
    "name": "ipython",
    "version": 3
   },
   "file_extension": ".py",
   "mimetype": "text/x-python",
   "name": "python",
   "nbconvert_exporter": "python",
   "pygments_lexer": "ipython3",
   "version": "3.11.1"
  }
 },
 "nbformat": 4,
 "nbformat_minor": 2
}
