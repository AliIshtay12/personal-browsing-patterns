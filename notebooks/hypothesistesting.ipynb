{
 "cells": [
  {
   "cell_type": "markdown",
   "metadata": {},
   "source": [
    "# Hypothesis Testing"
   ]
  },
  {
   "cell_type": "markdown",
   "metadata": {},
   "source": [
    "## 1. Hypothesis Definition"
   ]
  },
  {
   "cell_type": "markdown",
   "metadata": {},
   "source": [
    "To analyze the relationship between browsing patterns and academic cycles, the following hypothesis is proposed:\n",
    "\n",
    "#### **Null Hypothesis (H₀):**\n",
    "There is no significant relationship between browsing patterns (academic vs. non-academic activity) and academic cycles (e.g., exams, assignments, breaks, weekends).\n",
    "\n",
    "#### **Alternative Hypothesis (H₁):**\n",
    "There is a significant relationship between browsing patterns (academic vs. non-academic activity) and academic cycles. Specifically:\n",
    "- Academic-related browsing is expected to increase during exam and assignment periods.\n",
    "- Non-academic browsing is expected to dominate during breaks or weekends.\n",
    "\n",
    "This hypothesis will be tested using statistical techniques to uncover patterns and validate the relationship.\n"
   ]
  },
  {
   "cell_type": "markdown",
   "metadata": {},
   "source": [
    "## 2. Load Data"
   ]
  },
  {
   "cell_type": "code",
   "execution_count": null,
   "metadata": {},
   "outputs": [],
   "source": [
    "import pandas as pd\n",
    "\n",
    "# Load the processed data\n",
    "file_path = '../data/processed/processedata.csv'\n",
    "df = pd.read_csv(file_path)\n",
    "\n",
    "# Check the data structure\n",
    "print(\"Data Overview:\")\n",
    "print(df.head())\n",
    "print(\"\\nData Info:\")\n",
    "print(df.info())"
   ]
  },
  {
   "cell_type": "markdown",
   "metadata": {},
   "source": [
    "## 3. Exploratory Data Analysis (EDA)\n",
    "\n",
    "Must interpret output for report."
   ]
  },
  {
   "cell_type": "code",
   "execution_count": null,
   "metadata": {},
   "outputs": [],
   "source": [
    "import matplotlib.pyplot as plt\n",
    "\n",
    "# Goal 1: Analyze activity distribution during exam and non-exam periods\n",
    "exam_vs_non_exam = df.groupby('During Exam Period')['Activity Type'].value_counts(normalize=True).unstack()\n",
    "exam_vs_non_exam.plot(kind='bar', figsize=(8, 6), stacked=True, color=['blue', 'orange'])\n",
    "plt.title(\"Academic vs. Non-Academic Activity During Exam Periods\")\n",
    "plt.xlabel(\"Exam Period (0=No, 1=Yes)\")\n",
    "plt.ylabel(\"Proportion\")\n",
    "plt.xticks(ticks=[0, 1], labels=[\"Non-Exam\", \"Exam\"], rotation=0)\n",
    "plt.legend(title=\"Activity Type\")\n",
    "plt.tight_layout()\n",
    "plt.show()\n",
    "\n",
    "# Goal 2: Inspect activity patterns during academic vs. non-academic periods\n",
    "academic_vs_non_academic = df.groupby('During Academic Period')['Activity Type'].value_counts(normalize=True).unstack()\n",
    "academic_vs_non_academic.plot(kind='bar', figsize=(8, 6), stacked=True, color=['purple', 'yellow'])\n",
    "plt.title(\"Academic vs. Non-Academic Activity During Academic Periods\")\n",
    "plt.xlabel(\"Academic Period (0=Non-Academic, 1=Academic)\")\n",
    "plt.ylabel(\"Proportion\")\n",
    "plt.xticks(ticks=[0, 1], labels=[\"Non-Academic\", \"Academic\"], rotation=0)\n",
    "plt.legend(title=\"Activity Type\")\n",
    "plt.tight_layout()\n",
    "plt.show()\n",
    "\n",
    "# Goal 3: Examine weekdays vs. weekends browsing behavior\n",
    "weekday_activity = df.groupby('Is Weekend')['Activity Type'].value_counts(normalize=True).unstack()\n",
    "weekday_activity.plot(kind='bar', figsize=(8, 6), stacked=True, color=['green', 'red'])\n",
    "plt.title(\"Academic vs. Non-Academic Activity on Weekdays vs. Weekends\")\n",
    "plt.xlabel(\"Weekend (0=Weekday, 1=Weekend)\")\n",
    "plt.ylabel(\"Proportion\")\n",
    "plt.xticks(ticks=[0, 1], labels=[\"Weekday\", \"Weekend\"], rotation=0)\n",
    "plt.legend(title=\"Activity Type\")\n",
    "plt.tight_layout()\n",
    "plt.show()\n",
    "\n",
    "# Additional: Analyze time of day activity patterns\n",
    "time_of_day_activity = df.groupby('Time of Day')['Activity Type'].value_counts(normalize=True).unstack()\n",
    "time_of_day_activity.plot(kind='bar', figsize=(10, 6), stacked=True, color=['cyan', 'magenta'])\n",
    "plt.title(\"Academic vs. Non-Academic Activity by Time of Day\")\n",
    "plt.xlabel(\"Time of Day\")\n",
    "plt.ylabel(\"Proportion\")\n",
    "plt.xticks(rotation=0)\n",
    "plt.legend(title=\"Activity Type\")\n",
    "plt.tight_layout()\n",
    "plt.show()"
   ]
  },
  {
   "cell_type": "markdown",
   "metadata": {},
   "source": [
    "## 4. Perform Statistical Tests\n",
    "\n",
    "Must interpret output for report."
   ]
  },
  {
   "cell_type": "code",
   "execution_count": 8,
   "metadata": {},
   "outputs": [
    {
     "name": "stdout",
     "output_type": "stream",
     "text": [
      "Exam Period vs. Browsing Activity\n",
      "\n",
      "Contingency Table (Exam Periods):\n",
      "Activity Type       Academic  Non-Academic\n",
      "During Exam Period                        \n",
      "0                      31757         11536\n",
      "1                      19605          2941\n",
      "\n",
      "Chi-Square Test Results for Exam Periods:\n",
      "Chi2 Statistic: 1598.2087917548665\n",
      "p-value: 0.0\n",
      "Degrees of Freedom: 1\n",
      "Expected Frequencies Table:\n",
      "[[33773.52429411  9519.47570589]\n",
      " [17588.47570589  4957.52429411]]\n",
      "The results are statistically significant, suggesting a relationship between exam periods and browsing patterns.\n",
      "\n",
      "Weekdays vs. Weekends Browsing Activity\n",
      "\n",
      "Contingency Table (Weekends):\n",
      "Activity Type  Academic  Non-Academic\n",
      "Is Weekend                           \n",
      "0                 38271         10421\n",
      "1                 13091          4056\n",
      "\n",
      "Chi-Square Test Results for Weekdays vs. Weekends:\n",
      "Chi2 Statistic: 37.375051738431424\n",
      "p-value: 9.74609009460274e-10\n",
      "Degrees of Freedom: 1\n",
      "Expected Frequencies Table:\n",
      "[[37985.36587737 10706.63412263]\n",
      " [13376.63412263  3770.36587737]]\n",
      "The results are statistically significant, suggesting a relationship between weekdays/weekends and browsing patterns.\n"
     ]
    }
   ],
   "source": [
    "from scipy.stats import chi2_contingency\n",
    "\n",
    "# Exam period analysis\n",
    "print(\"Exam Period vs. Browsing Activity\")\n",
    "exam_contingency_table = pd.crosstab(df['During Exam Period'], df['Activity Type'])\n",
    "print(\"\\nContingency Table (Exam Periods):\")\n",
    "print(exam_contingency_table)\n",
    "\n",
    "chi2_exam, p_exam, dof_exam, expected_exam = chi2_contingency(exam_contingency_table)\n",
    "print(\"\\nChi-Square Test Results for Exam Periods:\")\n",
    "print(f\"Chi2 Statistic: {chi2_exam}\")\n",
    "print(f\"p-value: {p_exam}\")\n",
    "print(f\"Degrees of Freedom: {dof_exam}\")\n",
    "print(\"Expected Frequencies Table:\")\n",
    "print(expected_exam)\n",
    "\n",
    "# Interpretation of results\n",
    "if p_exam < 0.05:\n",
    "    print(\"The results are statistically significant, suggesting a relationship between exam periods and browsing patterns.\")\n",
    "else:\n",
    "    print(\"No statistically significant relationship was found between exam periods and browsing patterns.\")\n",
    "\n",
    "# Weekday vs. Weekend analysis\n",
    "print(\"\\nWeekdays vs. Weekends Browsing Activity\")\n",
    "weekend_contingency_table = pd.crosstab(df['Is Weekend'], df['Activity Type'])\n",
    "print(\"\\nContingency Table (Weekends):\")\n",
    "print(weekend_contingency_table)\n",
    "\n",
    "chi2_weekend, p_weekend, dof_weekend, expected_weekend = chi2_contingency(weekend_contingency_table)\n",
    "print(\"\\nChi-Square Test Results for Weekdays vs. Weekends:\")\n",
    "print(f\"Chi2 Statistic: {chi2_weekend}\")\n",
    "print(f\"p-value: {p_weekend}\")\n",
    "print(f\"Degrees of Freedom: {dof_weekend}\")\n",
    "print(\"Expected Frequencies Table:\")\n",
    "print(expected_weekend)\n",
    "\n",
    "# Interpretation of results\n",
    "if p_weekend < 0.05:\n",
    "    print(\"The results are statistically significant, suggesting a relationship between weekdays/weekends and browsing patterns.\")\n",
    "else:\n",
    "    print(\"No statistically significant relationship was found between weekdays/weekends and browsing patterns.\")"
   ]
  }
 ],
 "metadata": {
  "kernelspec": {
   "display_name": ".venv",
   "language": "python",
   "name": "python3"
  },
  "language_info": {
   "codemirror_mode": {
    "name": "ipython",
    "version": 3
   },
   "file_extension": ".py",
   "mimetype": "text/x-python",
   "name": "python",
   "nbconvert_exporter": "python",
   "pygments_lexer": "ipython3",
   "version": "3.13.0"
  }
 },
 "nbformat": 4,
 "nbformat_minor": 2
}
