{
 "cells": [
  {
   "cell_type": "markdown",
   "metadata": {},
   "source": [
    "# Hypothesis Testing"
   ]
  },
  {
   "cell_type": "markdown",
   "metadata": {},
   "source": [
    "## 1. Hypothesis Definition"
   ]
  },
  {
   "cell_type": "markdown",
   "metadata": {},
   "source": [
    "To analyze the relationship between browsing patterns and academic cycles, the following hypothesis is proposed:\n",
    "\n",
    "#### **Null Hypothesis (H₀):**\n",
    "There is no significant relationship between browsing patterns (academic vs. non-academic activity) and academic cycles (e.g., exams, assignments, breaks, weekends).\n",
    "\n",
    "#### **Alternative Hypothesis (H₁):**\n",
    "There is a significant relationship between browsing patterns (academic vs. non-academic activity) and academic cycles. Specifically:\n",
    "- Academic-related browsing is expected to increase during exam and assignment periods.\n",
    "- Non-academic browsing is expected to dominate during breaks or weekends.\n",
    "\n",
    "This hypothesis will be tested using statistical techniques to uncover patterns and validate the relationship.\n"
   ]
  },
  {
   "cell_type": "markdown",
   "metadata": {},
   "source": [
    "## 2. Load Data"
   ]
  },
  {
   "cell_type": "code",
   "execution_count": null,
   "metadata": {},
   "outputs": [],
   "source": [
    "import pandas as pd\n",
    "\n",
    "# Load the processed data\n",
    "file_path = '../data/processed/processedata.csv'\n",
    "df = pd.read_csv(file_path)\n",
    "\n",
    "# Check the data structure\n",
    "print(\"Data Overview:\")\n",
    "print(df.head())\n",
    "print(\"\\nData Info:\")\n",
    "print(df.info())"
   ]
  },
  {
   "cell_type": "markdown",
   "metadata": {},
   "source": [
    "## 3. Exploratory Data Analysis (EDA)"
   ]
  }
 ],
 "metadata": {
  "kernelspec": {
   "display_name": ".venv",
   "language": "python",
   "name": "python3"
  },
  "language_info": {
   "codemirror_mode": {
    "name": "ipython",
    "version": 3
   },
   "file_extension": ".py",
   "mimetype": "text/x-python",
   "name": "python",
   "nbconvert_exporter": "python",
   "pygments_lexer": "ipython3",
   "version": "3.13.0"
  }
 },
 "nbformat": 4,
 "nbformat_minor": 2
}
